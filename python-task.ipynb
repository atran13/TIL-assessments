{
 "cells": [
  {
   "cell_type": "code",
   "execution_count": 1,
   "metadata": {},
   "outputs": [],
   "source": [
    "import random"
   ]
  },
  {
   "cell_type": "code",
   "execution_count": 49,
   "metadata": {},
   "outputs": [
    {
     "name": "stdout",
     "output_type": "stream",
     "text": [
      "A = 7 , C = 49\n"
     ]
    }
   ],
   "source": [
    "def func():\n",
    "    a = random.randint(1,9)\n",
    "    b = random.randint(1,9)\n",
    "    c = a*b\n",
    "\n",
    "    if c!=4:\n",
    "        print(\"A =\", a, \", C =\", c)\n",
    "    else:\n",
    "        print(\"Success!\")\n",
    "        print(\"A =\", a, \", B =\", b)\n",
    "\n",
    "func()"
   ]
  }
 ],
 "metadata": {
  "kernelspec": {
   "display_name": "Python 3",
   "language": "python",
   "name": "python3"
  },
  "language_info": {
   "codemirror_mode": {
    "name": "ipython",
    "version": 3
   },
   "file_extension": ".py",
   "mimetype": "text/x-python",
   "name": "python",
   "nbconvert_exporter": "python",
   "pygments_lexer": "ipython3",
   "version": "3.11.2"
  },
  "orig_nbformat": 4
 },
 "nbformat": 4,
 "nbformat_minor": 2
}
